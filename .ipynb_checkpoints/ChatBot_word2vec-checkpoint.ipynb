{
 "cells": [
  {
   "cell_type": "code",
   "execution_count": 1,
   "metadata": {
    "collapsed": false
   },
   "outputs": [
    {
     "name": "stderr",
     "output_type": "stream",
     "text": [
      "Using Theano backend.\n"
     ]
    }
   ],
   "source": [
    "import numpy as np\n",
    "import pandas as pd\n",
    "\n",
    "import os\n",
    "import pickle\n",
    "\n",
    "import nltk\n",
    "import gensim\n",
    "\n",
    "from keras.models import Sequential\n",
    "from keras.layers.recurrent import LSTM,SimpleRNN\n",
    "from sklearn.model_selection import train_test_split\n",
    "import theano\n",
    "theano.config.optimizer=\"None\""
   ]
  },
  {
   "cell_type": "code",
   "execution_count": 3,
   "metadata": {
    "collapsed": false
   },
   "outputs": [],
   "source": [
    "with open('kramer_source_list_w2v.pickle','rb') as file:\n",
    "    kramer_source_list_w2v = pickle.load(file)"
   ]
  },
  {
   "cell_type": "code",
   "execution_count": 4,
   "metadata": {
    "collapsed": true
   },
   "outputs": [],
   "source": [
    "with open('kramer_response_list_w2v.pickle','rb') as file:\n",
    "    kramer_response_list_w2v = pickle.load(file)"
   ]
  },
  {
   "cell_type": "code",
   "execution_count": null,
   "metadata": {
    "collapsed": true
   },
   "outputs": [],
   "source": [
    "%%time\n",
    "\n",
    "word2vec = gensim.models.KeyedVectors.load_word2vec_format(google_vec_file, binary=True)\n"
   ]
  },
  {
   "cell_type": "code",
   "execution_count": null,
   "metadata": {
    "collapsed": true
   },
   "outputs": [],
   "source": [
    "vec_x=np.array(vec_x,dtype=np.float64)\n",
    "vec_y=np.array(vec_y,dtype=np.float64)    \n",
    "\n",
    "x_train,x_test, y_train,y_test = train_test_split(vec_x, vec_y, test_size=0.2, random_state=1)\n",
    "    \n",
    "model=Sequential()\n",
    "model.add(LSTM(output_dim=300,input_shape=x_train.shape[1:],return_sequences=True, init='glorot_normal', inner_init='glorot_normal', activation='sigmoid'))\n",
    "model.add(LSTM(output_dim=300,input_shape=x_train.shape[1:],return_sequences=True, init='glorot_normal', inner_init='glorot_normal', activation='sigmoid'))\n",
    "model.add(LSTM(output_dim=300,input_shape=x_train.shape[1:],return_sequences=True, init='glorot_normal', inner_init='glorot_normal', activation='sigmoid'))\n",
    "model.add(LSTM(output_dim=300,input_shape=x_train.shape[1:],return_sequences=True, init='glorot_normal', inner_init='glorot_normal', activation='sigmoid'))\n",
    "model.compile(loss='cosine_proximity', optimizer='adam', metrics=['accuracy'])\n",
    "\n",
    "model.fit(x_train, y_train, nb_epoch=500,validation_data=(x_test, y_test))\n",
    "model.save('LSTM500.h5');\n",
    "model.fit(x_train, y_train, nb_epoch=500,validation_data=(x_test, y_test))\n",
    "model.save('LSTM1000.h5');\n",
    "model.fit(x_train, y_train, nb_epoch=500,validation_data=(x_test, y_test))\n",
    "model.save('LSTM1500.h5');\n",
    "model.fit(x_train, y_train, nb_epoch=500,validation_data=(x_test, y_test))\n",
    "model.save('LSTM2000.h5');\n",
    "model.fit(x_train, y_train, nb_epoch=500,validation_data=(x_test, y_test))\n",
    "model.save('LSTM2500.h5');\n",
    "model.fit(x_train, y_train, nb_epoch=500,validation_data=(x_test, y_test))\n",
    "model.save('LSTM3000.h5');\n",
    "model.fit(x_train, y_train, nb_epoch=500,validation_data=(x_test, y_test))\n",
    "model.save('LSTM3500.h5');\n",
    "model.fit(x_train, y_train, nb_epoch=500,validation_data=(x_test, y_test))\n",
    "model.save('LSTM4000.h5');\n",
    "model.fit(x_train, y_train, nb_epoch=500,validation_data=(x_test, y_test))\n",
    "model.save('LSTM4500.h5');\n",
    "model.fit(x_train, y_train, nb_epoch=500,validation_data=(x_test, y_test))\n",
    "model.save('LSTM5000.h5');          \n",
    "predictions=model.predict(x_test) \n"
   ]
  },
  {
   "cell_type": "code",
   "execution_count": null,
   "metadata": {
    "collapsed": true
   },
   "outputs": [],
   "source": [
    "[mod.most_similar([predictions[10][i]])[0] for i in range(17)]"
   ]
  },
  {
   "cell_type": "code",
   "execution_count": null,
   "metadata": {
    "collapsed": true
   },
   "outputs": [],
   "source": []
  }
 ],
 "metadata": {
  "kernelspec": {
   "display_name": "Python 3",
   "language": "python",
   "name": "python3"
  },
  "language_info": {
   "codemirror_mode": {
    "name": "ipython",
    "version": 3
   },
   "file_extension": ".py",
   "mimetype": "text/x-python",
   "name": "python",
   "nbconvert_exporter": "python",
   "pygments_lexer": "ipython3",
   "version": "3.6.0"
  }
 },
 "nbformat": 4,
 "nbformat_minor": 2
}
