{
 "cells": [
  {
   "cell_type": "code",
   "execution_count": 1,
   "metadata": {
    "collapsed": false
   },
   "outputs": [
    {
     "name": "stderr",
     "output_type": "stream",
     "text": [
      "Using Theano backend.\n"
     ]
    }
   ],
   "source": [
    "import numpy as np\n",
    "import pandas as pd\n",
    "\n",
    "import os\n",
    "import pickle\n",
    "\n",
    "import nltk\n",
    "import gensim\n",
    "\n",
    "from keras.models import Sequential\n",
    "from keras.layers.recurrent import LSTM,SimpleRNN\n",
    "from sklearn.model_selection import train_test_split\n",
    "import theano\n",
    "theano.config.optimizer=\"None\""
   ]
  },
  {
   "cell_type": "code",
   "execution_count": 2,
   "metadata": {
    "collapsed": false
   },
   "outputs": [],
   "source": [
    "with open('kramer_source_list_w2v.pickle','rb') as file:\n",
    "    kramer_source_list_w2v = pickle.load(file)"
   ]
  },
  {
   "cell_type": "code",
   "execution_count": 3,
   "metadata": {
    "collapsed": true
   },
   "outputs": [],
   "source": [
    "with open('kramer_response_list_w2v.pickle','rb') as file:\n",
    "    kramer_response_list_w2v = pickle.load(file)"
   ]
  },
  {
   "cell_type": "code",
   "execution_count": 4,
   "metadata": {
    "collapsed": true
   },
   "outputs": [],
   "source": [
    "# Setup nltk corpora path and Google Word2Vec location\n",
    "nltk_path = os.sep.join([os.environ['HOME'], 'nltk_data'])\n",
    "google_vec_file = '/Users/warren/Data_Science/Metis/github/project-kojak/GoogleNews-vectors-negative300.bin.gz'\n",
    "\n",
    "nltk.data.path.insert(0, nltk_path)"
   ]
  },
  {
   "cell_type": "code",
   "execution_count": 5,
   "metadata": {
    "collapsed": false
   },
   "outputs": [
    {
     "name": "stdout",
     "output_type": "stream",
     "text": [
      "CPU times: user 2min 44s, sys: 5.76 s, total: 2min 50s\n",
      "Wall time: 2min 53s\n"
     ]
    }
   ],
   "source": [
    "%%time\n",
    "\n",
    "word2vec = gensim.models.KeyedVectors.load_word2vec_format(google_vec_file, binary=True)"
   ]
  },
  {
   "cell_type": "code",
   "execution_count": 6,
   "metadata": {
    "collapsed": true
   },
   "outputs": [],
   "source": [
    "# Convert prompts and responses to arrays\n",
    "vec_x = np.array(kramer_source_list_w2v, dtype = np.float64)\n",
    "vec_y = np.array(kramer_response_list_w2v, dtype = np.float64)"
   ]
  },
  {
   "cell_type": "code",
   "execution_count": 7,
   "metadata": {
    "collapsed": true
   },
   "outputs": [],
   "source": [
    "# Split the data into train and test sets\n",
    "x_train, x_test, y_train, y_test = train_test_split(vec_x, vec_y, test_size = 0.2, random_state = 1)"
   ]
  },
  {
   "cell_type": "code",
   "execution_count": null,
   "metadata": {
    "collapsed": true
   },
   "outputs": [],
   "source": [
    "# Model and training parameters\n",
    "LAYER_NUM = 4\n",
    "BATCH_SIZE = 10\n",
    "NUM_EPOCH = 10\n",
    "PRED_SIZE = 10"
   ]
  },
  {
   "cell_type": "code",
   "execution_count": null,
   "metadata": {
    "collapsed": true
   },
   "outputs": [],
   "source": [
    "# Create model\n",
    "# Add additional layers after the LSTMs?\n",
    "model = Sequential()\n",
    "\n",
    "for i in range(LAYER_NUM - 1):\n",
    "    model.add(LSTM(output_dim = 300,\n",
    "                   input_shape = x_train.shape[1:],\n",
    "                   return_sequences = True,\n",
    "                   init = 'glorot_normal',\n",
    "                   inner_init = 'glorot_normal',\n",
    "                   activation = 'sigmoid'))\n",
    "\n",
    "model.compile(loss = 'cosine_proximity', optimizer = 'adam', metrics = ['accuracy'])\n"
   ]
  },
  {
   "cell_type": "code",
   "execution_count": null,
   "metadata": {
    "collapsed": true
   },
   "outputs": [],
   "source": [
    "# Train model\n",
    "# 10, 40, 450, 500, 500, ... (until cumsum == 5000?)\n",
    "nb_epoch = 0\n",
    "\n",
    "while True:\n",
    "    print('\\n\\n')\n",
    "    model.fit(x_train, y_train,\n",
    "              batch_size = BATCH_SIZE,\n",
    "              nb_epoch = NUM_EPOCH,\n",
    "              validation_data=(x_test, y_test),\n",
    "              verbose = 1)\n",
    "\n",
    "    nb_epoch += NUM_EPOCH\n",
    "    \n",
    "    if nb_epoch % 10 == 0:\n",
    "        pprint(model.predict(x_test[:PRED_SIZE]) #generate_text(model, GENERATE_LENGTH)\n",
    "    if nb_epoch % 10 == 0:\n",
    "        model.save_weights('checkpoint_layers_{}_epoch_{}.hdf5'.format(LAYER_NUM, nb_epoch))\n"
   ]
  },
  {
   "cell_type": "code",
   "execution_count": null,
   "metadata": {
    "collapsed": true
   },
   "outputs": [],
   "source": [
    "#[word2vec.most_similar([predictions[10][i]])[0] for i in range(28)]"
   ]
  },
  {
   "cell_type": "code",
   "execution_count": null,
   "metadata": {
    "collapsed": true
   },
   "outputs": [],
   "source": []
  }
 ],
 "metadata": {
  "kernelspec": {
   "display_name": "Python 3",
   "language": "python",
   "name": "python3"
  },
  "language_info": {
   "codemirror_mode": {
    "name": "ipython",
    "version": 3
   },
   "file_extension": ".py",
   "mimetype": "text/x-python",
   "name": "python",
   "nbconvert_exporter": "python",
   "pygments_lexer": "ipython3",
   "version": "3.6.0"
  }
 },
 "nbformat": 4,
 "nbformat_minor": 2
}
